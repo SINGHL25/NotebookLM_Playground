
import pandas as pd

# Example: Analyze NotebookLM flashcards
flashcards = {
    "Q1": "How many years of ITS experience?",
    "A1": "14+ years",
    "Q2": "Key areas of expertise?",
    "A2": "Tolling, Traffic Management, Smart Mobility, AI in Transport"
}

df = pd.DataFrame(list(flashcards.items()), columns=["Question", "Answer"])
print(df)
